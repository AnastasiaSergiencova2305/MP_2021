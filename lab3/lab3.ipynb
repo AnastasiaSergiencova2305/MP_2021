{
 "cells": [
  {
   "cell_type": "markdown",
   "id": "f2b00581",
   "metadata": {},
   "source": [
    "##### Лабораторная работа №3.\n",
    "\n",
    "Выполнила: студентка группы 9383, Сергиенкова Анастасия. Вариант: 56 и 76.\n",
    "\n",
    "### Цель работы:\n",
    "\n",
    "Практическое применение библиотеки символьных вычислений Python (SymPy) для решения задач дискретной математики и математической логики.\n",
    "\n",
    "### Условие:\n",
    "\n",
    "1. Решить свой вариант диофантова уравнения.\n",
    "2. Имея открытую часть ключа RSA найти соответствующую закрытую часть и расшифровать кодированное слово.\n",
    "3. Записать в формате ДНФ и КНФ булеву функцию, заданную своим аналитическим выражением.\n",
    "\n",
    "\n"
   ]
  },
  {
   "cell_type": "markdown",
   "id": "74545bc4",
   "metadata": {},
   "source": [
    "# 1. Диофантово уравнение.\n",
    "\n",
    "2327x - 1716y = 52"
   ]
  },
  {
   "cell_type": "code",
   "execution_count": 1,
   "id": "9e9c4821",
   "metadata": {},
   "outputs": [],
   "source": [
    "from sympy.solvers.diophantine import diophantine\n",
    "from sympy import symbols\n",
    "\n",
    "x, y = symbols('x y')"
   ]
  },
  {
   "cell_type": "code",
   "execution_count": 2,
   "id": "fe2f716c",
   "metadata": {},
   "outputs": [],
   "source": [
    "res = tuple(diophantine(2327*x - 1716*y - 52))[0]"
   ]
  },
  {
   "cell_type": "code",
   "execution_count": 3,
   "id": "057eec67",
   "metadata": {},
   "outputs": [
    {
     "name": "stdout",
     "output_type": "stream",
     "text": [
      "Resolve:\n",
      "\n",
      " x = 132*t_0 + 236 \n",
      " y = 179*t_0 + 320\n"
     ]
    }
   ],
   "source": [
    "print(\"Resolve:\\n\")\n",
    "print(f\" x = {res[0]} \\n y = {res[1]}\")"
   ]
  },
  {
   "cell_type": "markdown",
   "id": "6dbf6900",
   "metadata": {},
   "source": [
    "# 2. Имея открытую часть ключа RSA найти соответствующую закрытую часть и расшифровать кодированное слово."
   ]
  },
  {
   "cell_type": "markdown",
   "id": "589ea550",
   "metadata": {},
   "source": [
    "Русское слово из четырех букв закодировано при помощи алгоритма RSA открытым ключом (e = 3, m = 34). Шифрованное сообщение имеет вид (12; 16; 29; 8). Подберите закрытую часть ключа и прочитайте исходное слово. Буквам русского алфавита соответствуют числа в диапазоне от 2 до 32 (исключены буквы \"ё\" и \"ъ\")."
   ]
  },
  {
   "cell_type": "code",
   "execution_count": 4,
   "id": "5ccf4acf",
   "metadata": {},
   "outputs": [],
   "source": [
    "from sympy.crypto.crypto import rsa_private_key, decipher_rsa\n",
    "\n",
    "key = rsa_private_key(34, 3)\n",
    "mes = [12, 16, 29, 8]\n",
    "alphabet = ['а', 'б', 'в', 'г', 'д', 'е', 'ж', 'з', 'и', 'й', 'к', 'л', 'м', 'н', 'о', 'п','р', 'с', 'т', 'у', 'ф', 'х', 'ц', 'ч', 'ш', 'щ', 'ы', 'ь', 'э', 'ю', 'я']"
   ]
  },
  {
   "cell_type": "code",
   "execution_count": 5,
   "id": "86a94ca9",
   "metadata": {},
   "outputs": [],
   "source": [
    "res = [alphabet[decipher_rsa(i, key)-2] for i in mes]"
   ]
  },
  {
   "cell_type": "code",
   "execution_count": 6,
   "id": "f1a6f7af",
   "metadata": {},
   "outputs": [
    {
     "name": "stdout",
     "output_type": "stream",
     "text": [
      "Result: = доха\n"
     ]
    }
   ],
   "source": [
    "print(f\"Result: = {''.join(res)}\")"
   ]
  },
  {
   "cell_type": "markdown",
   "id": "57452e78",
   "metadata": {},
   "source": [
    "# 3. Преобразование булевой функции."
   ]
  },
  {
   "cell_type": "markdown",
   "id": "c796cf51",
   "metadata": {},
   "source": [
    "$f(x,y,z) = ((xz)\\oplus(xy) \\oplus ((x \\vee z) \\vee y))$"
   ]
  },
  {
   "cell_type": "code",
   "execution_count": 7,
   "id": "02d47fa0",
   "metadata": {},
   "outputs": [],
   "source": [
    "from sympy.logic.boolalg import *\n",
    "\n",
    "x, y, z = symbols('x y z')"
   ]
  },
  {
   "cell_type": "code",
   "execution_count": 8,
   "id": "328541f8",
   "metadata": {},
   "outputs": [],
   "source": [
    "foo = ((x&z)^(x&y)^((x|z)|y))"
   ]
  },
  {
   "cell_type": "code",
   "execution_count": 9,
   "id": "b61e2f81",
   "metadata": {},
   "outputs": [],
   "source": [
    "DNF = to_dnf(foo, simplify=True)"
   ]
  },
  {
   "cell_type": "code",
   "execution_count": 10,
   "id": "70db8de9",
   "metadata": {},
   "outputs": [],
   "source": [
    "CNF = to_cnf(foo, simplify=True)"
   ]
  },
  {
   "cell_type": "code",
   "execution_count": 11,
   "id": "17c82ff3",
   "metadata": {},
   "outputs": [
    {
     "name": "stdout",
     "output_type": "stream",
     "text": [
      "ДНФ:  (y & z) | (y & ~x) | (z & ~x) | (x & ~y & ~z)\n",
      "КНФ:  (x | y | z) & (y | ~x | ~z) & (z | ~x | ~y)\n"
     ]
    }
   ],
   "source": [
    "print(\"ДНФ: \", DNF)\n",
    "print(\"КНФ: \", CNF)"
   ]
  },
  {
   "cell_type": "markdown",
   "id": "170e0ab9",
   "metadata": {},
   "source": [
    "# Вывод.\n",
    "\n",
    "При выполнении лабораторной работы были изучены функции библиотеки Языка Программирования Python SymPy для решения задач дискретной математики и математической логики."
   ]
  }
 ],
 "metadata": {
  "kernelspec": {
   "display_name": "Python 3",
   "language": "python",
   "name": "python3"
  },
  "language_info": {
   "codemirror_mode": {
    "name": "ipython",
    "version": 3
   },
   "file_extension": ".py",
   "mimetype": "text/x-python",
   "name": "python",
   "nbconvert_exporter": "python",
   "pygments_lexer": "ipython3",
   "version": "3.8.5"
  }
 },
 "nbformat": 4,
 "nbformat_minor": 5
}
